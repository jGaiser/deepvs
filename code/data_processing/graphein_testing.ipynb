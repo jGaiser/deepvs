{
 "cells": [
  {
   "cell_type": "code",
   "execution_count": 1,
   "metadata": {},
   "outputs": [
    {
     "name": "stderr",
     "output_type": "stream",
     "text": [
      "To use the Graphein submodule graphein.protein.features.sequence.embeddings, you need to install: biovec \n",
      "biovec cannot be installed via conda\n",
      "To use the Graphein submodule graphein.protein.visualisation, you need to install: pytorch3d \n",
      "To do so, use the following command: conda install -c pytorch3d pytorch3d\n"
     ]
    },
    {
     "data": {
      "text/html": [
       "<pre style=\"white-space:pre;overflow-x:auto;line-height:normal;font-family:Menlo,'DejaVu Sans Mono',consolas,'Courier New',monospace\"><span style=\"color: #7fbfbf; text-decoration-color: #7fbfbf\">[10/07/22 13:25:48] </span><span style=\"color: #800000; text-decoration-color: #800000\">WARNING </span> To use the Graphein submodule graphein.protein.meshes, you need to        <a href=\"file:///home/u1/jgaiser/.conda/envs/graphein-env/lib/python3.10/site-packages/graphein/protein/meshes.py\" target=\"_blank\"><span style=\"color: #7f7f7f; text-decoration-color: #7f7f7f\">meshes.py</span></a><span style=\"color: #7f7f7f; text-decoration-color: #7f7f7f\">:</span><a href=\"file:///home/u1/jgaiser/.conda/envs/graphein-env/lib/python3.10/site-packages/graphein/protein/meshes.py#29\" target=\"_blank\"><span style=\"color: #7f7f7f; text-decoration-color: #7f7f7f\">29</span></a>\n",
       "<span style=\"color: #7fbfbf; text-decoration-color: #7fbfbf\">                    </span>         install: pytorch3d                                                        <span style=\"color: #7f7f7f; text-decoration-color: #7f7f7f\">            </span>\n",
       "<span style=\"color: #7fbfbf; text-decoration-color: #7fbfbf\">                    </span>         To do so, use the following command: conda install -c pytorch3d pytorch3d <span style=\"color: #7f7f7f; text-decoration-color: #7f7f7f\">            </span>\n",
       "</pre>\n"
      ],
      "text/plain": [
       "\u001b[2;36m[10/07/22 13:25:48]\u001b[0m\u001b[2;36m \u001b[0m\u001b[31mWARNING \u001b[0m To use the Graphein submodule graphein.protein.meshes, you need to        \u001b]8;id=447650;file:///home/u1/jgaiser/.conda/envs/graphein-env/lib/python3.10/site-packages/graphein/protein/meshes.py\u001b\\\u001b[2mmeshes.py\u001b[0m\u001b]8;;\u001b\\\u001b[2m:\u001b[0m\u001b]8;id=533449;file:///home/u1/jgaiser/.conda/envs/graphein-env/lib/python3.10/site-packages/graphein/protein/meshes.py#29\u001b\\\u001b[2m29\u001b[0m\u001b]8;;\u001b\\\n",
       "\u001b[2;36m                    \u001b[0m         install: pytorch3d                                                        \u001b[2m            \u001b[0m\n",
       "\u001b[2;36m                    \u001b[0m         To do so, use the following command: conda install -c pytorch3d pytorch3d \u001b[2m            \u001b[0m\n"
      ]
     },
     "metadata": {},
     "output_type": "display_data"
    }
   ],
   "source": [
    "import pickle\n",
    "import sys\n",
    "import glob\n",
    "import yaml\n",
    "from copy import deepcopy\n",
    "from graphein.protein.config import ProteinGraphConfig\n",
    "from graphein.protein.graphs import construct_graph\n",
    "from graphein.protein.edges.atomic import add_atomic_edges, add_bond_order, add_ring_status \n",
    "from graphein.protein.edges.distance import node_coords\n",
    "import torch\n",
    "from torch_geometric.data import Data"
   ]
  },
  {
   "cell_type": "code",
   "execution_count": null,
   "metadata": {},
   "outputs": [],
   "source": []
  },
  {
   "cell_type": "code",
   "execution_count": 2,
   "metadata": {},
   "outputs": [],
   "source": [
    "with open('config.yaml', 'r') as config_file:  \n",
    "  config = yaml.safe_load(config_file) \n",
    "\n",
    "with open(config['protein_config_file'], 'r') as config_file:  \n",
    "  protein_config = yaml.safe_load(config_file)\n",
    "\n",
    "protein_atom_labels = protein_config['atom_labels']\n",
    "protein_edge_labels = protein_config['edge_labels']\n",
    "interaction_labels = protein_config['interaction_labels']\n",
    "\n",
    "graphein_param_dict = {\"granularity\": \"atom\", \n",
    "                       \"edge_construction_functions\": [add_atomic_edges, add_bond_order, add_ring_status],\n",
    "                       \"deprotonate\": False}\n",
    "\n",
    "graphein_config = ProteinGraphConfig(**graphein_param_dict)"
   ]
  },
  {
   "cell_type": "code",
   "execution_count": 9,
   "metadata": {},
   "outputs": [],
   "source": [
    "def get_distance(x,y):\n",
    "    total = 0 \n",
    "\n",
    "    for a,b in zip(x,y):\n",
    "        total += (a-b)**2\n",
    "\n",
    "    return total**(0.5)\n",
    "\n",
    "def generate_node(node_type_list, node_type, coords):\n",
    "    feature_vec = [0 for x in range(len(node_type_list))]\n",
    "    feature_vec[node_type_list.index(node_type)] = 1\n",
    "    feature_vec.extend(coords)\n",
    "    return feature_vec\n",
    "\n",
    "def generate_edge(edge_feature_list, edge_features, weight):\n",
    "    feature_vec = [0 for x in range(len(edge_feature_list))]\n",
    "    \n",
    "    for item in edge_features:\n",
    "        feature_vec[edge_feature_list.index(item)] = 1\n",
    "        \n",
    "    feature_vec.append(weight)\n",
    "    return feature_vec"
   ]
  },
  {
   "cell_type": "code",
   "execution_count": 5,
   "metadata": {},
   "outputs": [],
   "source": [
    "pdb_dir = sorted(glob.glob(config['processed_pdbbind_dir'] + \"*/\"))\n",
    "voxel_graph_dir = config['voxel_graph_dir']\n",
    "target_id_list = []"
   ]
  },
  {
   "cell_type": "code",
   "execution_count": 16,
   "metadata": {},
   "outputs": [
    {
     "data": {
      "application/vnd.jupyter.widget-view+json": {
       "model_id": "",
       "version_major": 2,
       "version_minor": 0
      },
      "text/plain": [
       "Output()"
      ]
     },
     "metadata": {},
     "output_type": "display_data"
    },
    {
     "name": "stdout",
     "output_type": "stream",
     "text": [
      "0\n"
     ]
    },
    {
     "data": {
      "text/html": [
       "<pre style=\"white-space:pre;overflow-x:auto;line-height:normal;font-family:Menlo,'DejaVu Sans Mono',consolas,'Courier New',monospace\"></pre>\n"
      ],
      "text/plain": []
     },
     "metadata": {},
     "output_type": "display_data"
    },
    {
     "data": {
      "text/html": [
       "<pre style=\"white-space:pre;overflow-x:auto;line-height:normal;font-family:Menlo,'DejaVu Sans Mono',consolas,'Courier New',monospace\">\n",
       "</pre>\n"
      ],
      "text/plain": [
       "\n"
      ]
     },
     "metadata": {},
     "output_type": "display_data"
    },
    {
     "name": "stdout",
     "output_type": "stream",
     "text": [
      "[4, 9, 5, 6, 6, 0, 0, 7, 7, 2, 2, 1, 0, 1, 0, 2, 0, 3, 0, 4, 0, 5, 0, 8, 0, 9, 1, 3, 1, 4, 1, 5, 1, 6, 1, 7, 1, 8, 1, 9, 2, 3, 2, 4, 2, 5, 2, 6, 2, 8, 2, 9, 3, 4, 3, 5, 3, 6, 3, 7, 3, 8, 3, 9, 4, 5, 4, 6, 4, 7, 4, 8, 5, 7, 5, 8, 5, 9, 6, 7, 6, 8, 6, 9, 7, 8, 7, 9, 8, 9]\n",
      "[9, 4, 6, 5, 0, 6, 7, 0, 2, 7, 1, 2, 1, 0, 2, 0, 3, 0, 4, 0, 5, 0, 8, 0, 9, 0, 3, 1, 4, 1, 5, 1, 6, 1, 7, 1, 8, 1, 9, 1, 3, 2, 4, 2, 5, 2, 6, 2, 8, 2, 9, 2, 4, 3, 5, 3, 6, 3, 7, 3, 8, 3, 9, 3, 5, 4, 6, 4, 7, 4, 8, 4, 7, 5, 8, 5, 9, 5, 7, 6, 8, 6, 9, 6, 8, 7, 9, 7, 9, 8]\n",
      "[0, 0, 1, 0, 1, 0, 1.4613397962144188]\n",
      "[0, 0, 1, 0, 1, 0, 1.4613397962144188]\n",
      "[0, 0, 1, 0, 1, 0, 1.5322434532410312]\n",
      "[0, 0, 1, 0, 1, 0, 1.5322434532410312]\n",
      "[1, 0, 0, 0, 1, 0, 1.3309883545696437]\n",
      "[1, 0, 0, 0, 1, 0, 1.3309883545696437]\n",
      "[0, 0, 1, 0, 1, 0, 1.461198480700003]\n",
      "[0, 0, 1, 0, 1, 0, 1.461198480700003]\n",
      "[0, 0, 1, 0, 1, 0, 1.5276625936377437]\n",
      "[0, 0, 1, 0, 1, 0, 1.5276625936377437]\n",
      "[0, 0, 1, 0, 1, 0, 1.4137287575769253]\n",
      "[0, 0, 1, 0, 1, 0, 1.4137287575769253]\n",
      "[0, 0, 0, 0, 0, 1, 2.8655318878002376]\n",
      "[0, 0, 0, 0, 0, 1, 2.8655318878002376]\n",
      "[0, 0, 0, 0, 0, 1, 2.4541499546686216]\n",
      "[0, 0, 0, 0, 0, 1, 2.4541499546686216]\n",
      "[0, 0, 0, 0, 0, 1, 4.45211556453783]\n",
      "[0, 0, 0, 0, 0, 1, 4.45211556453783]\n",
      "[0, 0, 0, 0, 0, 1, 5.6713963888975325]\n",
      "[0, 0, 0, 0, 0, 1, 5.6713963888975325]\n",
      "[0, 0, 0, 0, 0, 1, 2.4262262878800085]\n",
      "[0, 0, 0, 0, 0, 1, 2.4262262878800085]\n",
      "[0, 0, 0, 0, 0, 1, 5.794401953610052]\n",
      "[0, 0, 0, 0, 0, 1, 5.794401953610052]\n",
      "[0, 0, 0, 0, 0, 1, 6.520232741244746]\n",
      "[0, 0, 0, 0, 0, 1, 6.520232741244746]\n",
      "[0, 0, 0, 0, 0, 1, 5.6074742977565215]\n",
      "[0, 0, 0, 0, 0, 1, 5.6074742977565215]\n",
      "[0, 0, 0, 0, 0, 1, 3.781862768530874]\n",
      "[0, 0, 0, 0, 0, 1, 3.781862768530874]\n",
      "[0, 0, 0, 0, 0, 1, 4.993342067193075]\n",
      "[0, 0, 0, 0, 0, 1, 4.993342067193075]\n",
      "[0, 0, 0, 0, 0, 1, 4.102505210234353]\n",
      "[0, 0, 0, 0, 0, 1, 4.102505210234353]\n",
      "[0, 0, 0, 0, 0, 1, 2.42597815324046]\n",
      "[0, 0, 0, 0, 0, 1, 2.42597815324046]\n",
      "[0, 0, 0, 0, 0, 1, 3.288274167401496]\n",
      "[0, 0, 0, 0, 0, 1, 3.288274167401496]\n",
      "[0, 0, 0, 0, 0, 1, 4.48304472429174]\n",
      "[0, 0, 0, 0, 0, 1, 4.48304472429174]\n",
      "[0, 0, 0, 0, 0, 1, 6.226076212190146]\n",
      "[0, 0, 0, 0, 0, 1, 6.226076212190146]\n",
      "[0, 0, 0, 0, 0, 1, 4.386579647059881]\n",
      "[0, 0, 0, 0, 0, 1, 4.386579647059881]\n",
      "[0, 0, 0, 0, 0, 1, 4.8491943660777315]\n",
      "[0, 0, 0, 0, 0, 1, 4.8491943660777315]\n",
      "[0, 0, 0, 0, 0, 1, 3.722736359185272]\n",
      "[0, 0, 0, 0, 0, 1, 3.722736359185272]\n",
      "[0, 0, 0, 0, 0, 1, 4.5512941016814095]\n",
      "[0, 0, 0, 0, 0, 1, 4.5512941016814095]\n",
      "[0, 0, 0, 0, 0, 1, 5.400159534680433]\n",
      "[0, 0, 0, 0, 0, 1, 5.400159534680433]\n",
      "[0, 0, 0, 0, 0, 1, 6.975573811522604]\n",
      "[0, 0, 0, 0, 0, 1, 6.975573811522604]\n",
      "[0, 0, 0, 0, 0, 1, 3.1708770080216]\n",
      "[0, 0, 0, 0, 0, 1, 3.1708770080216]\n",
      "[0, 0, 0, 0, 0, 1, 4.202216201006323]\n",
      "[0, 0, 0, 0, 0, 1, 4.202216201006323]\n",
      "[0, 0, 0, 0, 0, 1, 5.75821691151002]\n",
      "[0, 0, 0, 0, 0, 1, 5.75821691151002]\n",
      "[0, 0, 0, 0, 0, 1, 6.522440877462975]\n",
      "[0, 0, 0, 0, 0, 1, 6.522440877462975]\n",
      "[0, 0, 0, 0, 0, 1, 7.021525048021974]\n",
      "[0, 0, 0, 0, 0, 1, 7.021525048021974]\n",
      "[0, 0, 0, 0, 0, 1, 7.196310513033745]\n",
      "[0, 0, 0, 0, 0, 1, 7.196310513033745]\n",
      "[0, 0, 0, 0, 0, 1, 6.89668753823167]\n",
      "[0, 0, 0, 0, 0, 1, 6.89668753823167]\n",
      "[0, 0, 0, 0, 0, 1, 5.676536443994698]\n",
      "[0, 0, 0, 0, 0, 1, 5.676536443994698]\n",
      "[0, 0, 0, 0, 0, 1, 2.824039128624106]\n",
      "[0, 0, 0, 0, 0, 1, 2.824039128624106]\n",
      "[0, 0, 0, 0, 0, 1, 3.815853639750875]\n",
      "[0, 0, 0, 0, 0, 1, 3.815853639750875]\n",
      "[0, 0, 0, 0, 0, 1, 7.337855953887349]\n",
      "[0, 0, 0, 0, 0, 1, 7.337855953887349]\n",
      "[0, 0, 0, 0, 0, 1, 7.842455291552513]\n",
      "[0, 0, 0, 0, 0, 1, 7.842455291552513]\n",
      "[0, 0, 0, 0, 0, 1, 2.449961836437459]\n",
      "[0, 0, 0, 0, 0, 1, 2.449961836437459]\n",
      "[0, 0, 0, 0, 0, 1, 6.9203773018528425]\n",
      "[0, 0, 0, 0, 0, 1, 6.9203773018528425]\n",
      "[0, 0, 0, 0, 0, 1, 7.674733936756376]\n",
      "[0, 0, 0, 0, 0, 1, 7.674733936756376]\n",
      "[0, 0, 0, 0, 0, 1, 5.697735427343042]\n",
      "[0, 0, 0, 0, 0, 1, 5.697735427343042]\n",
      "[0, 0, 0, 0, 0, 1, 6.630560911416166]\n",
      "[0, 0, 0, 0, 0, 1, 6.630560911416166]\n",
      "[0, 0, 0, 0, 0, 1, 2.30703120915171]\n",
      "[0, 0, 0, 0, 0, 1, 2.30703120915171]\n",
      "[0, 1, 1, 1, 1, 1, 1, 1, 1, 1]\n",
      "[1, 0, 1, 1, 1, 1, 1, 1, 1, 1]\n",
      "[1, 1, 0, 1, 1, 1, 1, 1, 1, 1]\n",
      "[1, 1, 1, 0, 1, 1, 1, 1, 1, 1]\n",
      "[1, 1, 1, 1, 0, 1, 1, 1, 1, 1]\n",
      "[1, 1, 1, 1, 1, 0, 1, 1, 1, 1]\n",
      "[1, 1, 1, 1, 1, 1, 0, 1, 1, 1]\n",
      "[1, 1, 1, 1, 1, 1, 1, 0, 1, 1]\n",
      "[1, 1, 1, 1, 1, 1, 1, 1, 0, 1]\n",
      "[1, 1, 1, 1, 1, 1, 1, 1, 1, 0]\n"
     ]
    },
    {
     "ename": "SystemExit",
     "evalue": "",
     "output_type": "error",
     "traceback": [
      "An exception has occurred, use %tb to see the full traceback.\n",
      "\u001b[0;31mSystemExit\u001b[0m\n"
     ]
    },
    {
     "name": "stderr",
     "output_type": "stream",
     "text": [
      "/home/u1/jgaiser/.conda/envs/graphein-env/lib/python3.10/site-packages/IPython/core/interactiveshell.py:3386: UserWarning: To exit: use 'exit', 'quit', or Ctrl-D.\n",
      "  warn(\"To exit: use 'exit', 'quit', or Ctrl-D.\", stacklevel=1)\n"
     ]
    }
   ],
   "source": [
    "for t_idx, target_dir in enumerate(pdb_dir):\n",
    "    if t_idx % 100 == 0:\n",
    "        print(t_idx)\n",
    "\n",
    "    target_id = target_dir.split('/')[-2]\n",
    "    target_id_list.append(target_id)\n",
    "    protein_atom_data = []         \n",
    "\n",
    "    ip_data = pickle.load(open(\"%s%s_ip.pkl\" % (target_dir, target_id), 'rb'))\n",
    "    protein_graph = construct_graph(config=graphein_config, pdb_path=\"%s%s_protein_25.pdb\" % (target_dir, target_id))\n",
    "\n",
    "    for interaction_type, interaction_coords in ip_data.items():\n",
    "        for interaction_xyz in interaction_coords: \n",
    "            sorted_nodelist = []\n",
    "            sorted_node_labels = []\n",
    "            node_features = []\n",
    "\n",
    "            edge_features = []\n",
    "            edge_index = [[],[]]\n",
    "\n",
    "            for i, n in enumerate(protein_graph.nodes(data=True)):\n",
    "                n = [n[0], n[1]['atom_type'], n[1]['coords'], get_distance(interaction_xyz, n[1]['coords'])]\n",
    "                sorted_nodelist.append(n)\n",
    "\n",
    "            sorted_nodelist = sorted(sorted_nodelist, key=lambda x: x[-1])[:10]\n",
    "            \n",
    "            edge_check = [[0 for x in sorted_nodelist] for y in sorted_nodelist]\n",
    "\n",
    "            for item in sorted_nodelist:\n",
    "                sorted_node_labels.append(item[0])\n",
    "                node_features.append(generate_node(protein_atom_labels, item[1], item[2]))\n",
    "\n",
    "            for i,e in enumerate(protein_graph.edges(data=True)):\n",
    "                if e[0] not in sorted_node_labels:\n",
    "                    continue\n",
    "\n",
    "                if e[1] not in sorted_node_labels:\n",
    "                    continue\n",
    "                    \n",
    "                n1 = sorted_node_labels.index(e[0])\n",
    "                n2 = sorted_node_labels.index(e[1])\n",
    "\n",
    "                edge_index[0].extend([n1,n2])\n",
    "                edge_index[1].extend([n2,n1])\n",
    "                \n",
    "                edge_check[n1][n2] = 1\n",
    "                edge_check[n2][n1] = 1\n",
    "                \n",
    "                edge_feature_vec = generate_edge(protein_edge_labels, e[2]['kind'], e[2]['distance'])\n",
    "                edge_features.extend([edge_feature_vec, edge_feature_vec])\n",
    "                \n",
    "            for n1 in range(len(edge_check)):\n",
    "                for n2 in range(len(edge_check)):\n",
    "                    if n1 == n2:\n",
    "                        continue\n",
    "                    if edge_check[n1][n2] == 0:\n",
    "                        edge_index[0].extend([n1,n2])\n",
    "                        edge_index[1].extend([n2,n1])\n",
    "\n",
    "                        edge_check[n1][n2] = 1\n",
    "                        edge_check[n2][n1] = 1\n",
    "\n",
    "                        node_distance = get_distance(node_features[n1][-3:], node_features[n2][-3:])\n",
    "\n",
    "                        edge_feature_vec = generate_edge(protein_edge_labels, ['spatial'], node_distance)\n",
    "                        edge_features.extend([edge_feature_vec, edge_feature_vec])\n",
    "                        \n",
    "                \n",
    "            for row in edge_index:\n",
    "                print(row)\n",
    "            \n",
    "            for row in edge_features:\n",
    "                print(row)\n",
    "                \n",
    "            for row in edge_check:\n",
    "                print(row)\n",
    "            sys.exit()\n",
    "            print('----------')\n",
    "            if t_idx == 5:\n",
    "                sys.exit()"
   ]
  }
 ],
 "metadata": {
  "kernelspec": {
   "display_name": "graphein-env",
   "language": "python",
   "name": "graphein-env"
  },
  "language_info": {
   "codemirror_mode": {
    "name": "ipython",
    "version": 3
   },
   "file_extension": ".py",
   "mimetype": "text/x-python",
   "name": "python",
   "nbconvert_exporter": "python",
   "pygments_lexer": "ipython3",
   "version": "3.10.6"
  }
 },
 "nbformat": 4,
 "nbformat_minor": 4
}
